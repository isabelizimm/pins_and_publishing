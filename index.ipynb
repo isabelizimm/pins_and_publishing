{
 "cells": [
  {
   "attachments": {},
   "cell_type": "markdown",
   "metadata": {},
   "source": [
    "# Pins and publishing\n",
    "\n",
    "![](download.png)\n",
    "\n",
    "## Pins\n",
    "\n",
    "_The pins package publishes data, models, and other Python objects, making it easy to share them across projects and with your colleagues._\n",
    "\n",
    "`pip install pins`\n",
    "\n",
    "The pins package helps you publish data sets, models, and other R objects, making it easy to share them across projects and with your colleagues. The pin board can be on\n",
    "\n",
    "- Local or temp folder\n",
    "- RStudio Connect\n",
    "- Amazon S3\n",
    "- Azure storage\n",
    "- Google Cloud\n",
    "\n",
    "## When should I use pins?\n",
    "\n",
    "-   When you're tired of emailing CSVs or models around\n",
    "-   When you (or your colleagues) use R *and* Python for data tasks\n",
    "-   When you want to save just a little bit of data in a visible place\n",
    "-   When you want to version data or models in a lightweight way\n",
    "-   When you share your model or data across multiple apps\n",
    "-   When you don't want to redeploy your app every time the supporting data is updated\n",
    "\n",
    "## How do I use pins?\n",
    "\n",
    "Pins includes 2 major concepts: a board and a pinned object."
   ]
  },
  {
   "cell_type": "code",
   "execution_count": 1,
   "metadata": {},
   "outputs": [
    {
     "data": {
      "text/plain": [
       "<pins.boards.BaseBoard at 0x1263097c0>"
      ]
     },
     "execution_count": 1,
     "metadata": {},
     "output_type": "execute_result"
    }
   ],
   "source": [
    "from pins import board_temp\n",
    "from pins.data import mtcars\n",
    "\n",
    "tmpboard = board_temp()\n",
    "tmpboard"
   ]
  },
  {
   "cell_type": "code",
   "execution_count": 2,
   "metadata": {},
   "outputs": [
    {
     "name": "stderr",
     "output_type": "stream",
     "text": [
      "Writing pin:\n",
      "Name: 'mtcars'\n",
      "Version: 20230710T164815Z-120a5\n"
     ]
    },
    {
     "data": {
      "text/plain": [
       "Meta(title='mtcars: a pinned 5 x 11 DataFrame', description=None, created='20230710T164815Z', pin_hash='120a54f7e0818041', file='mtcars.csv', file_size=249, type='csv', api_version=1, version=Version(created=datetime.datetime(2023, 7, 10, 16, 48, 15, 990642), hash='120a54f7e0818041'), tags=None, name='mtcars', user={}, local={})"
      ]
     },
     "execution_count": 2,
     "metadata": {},
     "output_type": "execute_result"
    }
   ],
   "source": [
    "tmpboard.pin_write(mtcars.head(), \"mtcars\", type=\"csv\")"
   ]
  },
  {
   "cell_type": "code",
   "execution_count": 3,
   "metadata": {},
   "outputs": [
    {
     "data": {
      "text/html": [
       "<div>\n",
       "<style scoped>\n",
       "    .dataframe tbody tr th:only-of-type {\n",
       "        vertical-align: middle;\n",
       "    }\n",
       "\n",
       "    .dataframe tbody tr th {\n",
       "        vertical-align: top;\n",
       "    }\n",
       "\n",
       "    .dataframe thead th {\n",
       "        text-align: right;\n",
       "    }\n",
       "</style>\n",
       "<table border=\"1\" class=\"dataframe\">\n",
       "  <thead>\n",
       "    <tr style=\"text-align: right;\">\n",
       "      <th></th>\n",
       "      <th>mpg</th>\n",
       "      <th>cyl</th>\n",
       "      <th>disp</th>\n",
       "      <th>hp</th>\n",
       "      <th>drat</th>\n",
       "      <th>wt</th>\n",
       "      <th>qsec</th>\n",
       "      <th>vs</th>\n",
       "      <th>am</th>\n",
       "      <th>gear</th>\n",
       "      <th>carb</th>\n",
       "    </tr>\n",
       "  </thead>\n",
       "  <tbody>\n",
       "    <tr>\n",
       "      <th>0</th>\n",
       "      <td>21.0</td>\n",
       "      <td>6</td>\n",
       "      <td>160.0</td>\n",
       "      <td>110</td>\n",
       "      <td>3.90</td>\n",
       "      <td>2.620</td>\n",
       "      <td>16.46</td>\n",
       "      <td>0</td>\n",
       "      <td>1</td>\n",
       "      <td>4</td>\n",
       "      <td>4</td>\n",
       "    </tr>\n",
       "    <tr>\n",
       "      <th>1</th>\n",
       "      <td>21.0</td>\n",
       "      <td>6</td>\n",
       "      <td>160.0</td>\n",
       "      <td>110</td>\n",
       "      <td>3.90</td>\n",
       "      <td>2.875</td>\n",
       "      <td>17.02</td>\n",
       "      <td>0</td>\n",
       "      <td>1</td>\n",
       "      <td>4</td>\n",
       "      <td>4</td>\n",
       "    </tr>\n",
       "    <tr>\n",
       "      <th>2</th>\n",
       "      <td>22.8</td>\n",
       "      <td>4</td>\n",
       "      <td>108.0</td>\n",
       "      <td>93</td>\n",
       "      <td>3.85</td>\n",
       "      <td>2.320</td>\n",
       "      <td>18.61</td>\n",
       "      <td>1</td>\n",
       "      <td>1</td>\n",
       "      <td>4</td>\n",
       "      <td>1</td>\n",
       "    </tr>\n",
       "    <tr>\n",
       "      <th>3</th>\n",
       "      <td>21.4</td>\n",
       "      <td>6</td>\n",
       "      <td>258.0</td>\n",
       "      <td>110</td>\n",
       "      <td>3.08</td>\n",
       "      <td>3.215</td>\n",
       "      <td>19.44</td>\n",
       "      <td>1</td>\n",
       "      <td>0</td>\n",
       "      <td>3</td>\n",
       "      <td>1</td>\n",
       "    </tr>\n",
       "    <tr>\n",
       "      <th>4</th>\n",
       "      <td>18.7</td>\n",
       "      <td>8</td>\n",
       "      <td>360.0</td>\n",
       "      <td>175</td>\n",
       "      <td>3.15</td>\n",
       "      <td>3.440</td>\n",
       "      <td>17.02</td>\n",
       "      <td>0</td>\n",
       "      <td>0</td>\n",
       "      <td>3</td>\n",
       "      <td>2</td>\n",
       "    </tr>\n",
       "  </tbody>\n",
       "</table>\n",
       "</div>"
      ],
      "text/plain": [
       "    mpg  cyl   disp   hp  drat     wt   qsec  vs  am  gear  carb\n",
       "0  21.0    6  160.0  110  3.90  2.620  16.46   0   1     4     4\n",
       "1  21.0    6  160.0  110  3.90  2.875  17.02   0   1     4     4\n",
       "2  22.8    4  108.0   93  3.85  2.320  18.61   1   1     4     1\n",
       "3  21.4    6  258.0  110  3.08  3.215  19.44   1   0     3     1\n",
       "4  18.7    8  360.0  175  3.15  3.440  17.02   0   0     3     2"
      ]
     },
     "execution_count": 3,
     "metadata": {},
     "output_type": "execute_result"
    }
   ],
   "source": [
    "tmpboard.pin_read(\"mtcars\")"
   ]
  },
  {
   "attachments": {},
   "cell_type": "markdown",
   "metadata": {},
   "source": [
    "But, you can make pins more powerful with metadata."
   ]
  },
  {
   "cell_type": "code",
   "execution_count": 4,
   "metadata": {},
   "outputs": [
    {
     "data": {
      "text/plain": [
       "Meta(title='mtcars: a pinned 5 x 11 DataFrame', description=None, created='20230710T164815Z', pin_hash='120a54f7e0818041', file='mtcars.csv', file_size=249, type='csv', api_version=1, version=Version(created=datetime.datetime(2023, 7, 10, 16, 48, 15), hash='120a5'), tags=None, name='mtcars', user={}, local={})"
      ]
     },
     "execution_count": 4,
     "metadata": {},
     "output_type": "execute_result"
    }
   ],
   "source": [
    "tmpboard.pin_meta(\"mtcars\")"
   ]
  },
  {
   "cell_type": "code",
   "execution_count": 5,
   "metadata": {},
   "outputs": [
    {
     "name": "stderr",
     "output_type": "stream",
     "text": [
      "Writing pin:\n",
      "Name: 'mtcars2'\n",
      "Version: 20230710T164824Z-3b134\n"
     ]
    },
    {
     "data": {
      "text/plain": [
       "Meta(title='mtcars2: a pinned 32 x 11 DataFrame', description='Data extracted from the 1974 Motor Trend US magazine, and comprises fuel consumption and 10 aspects of automobile design and performance for 32 automobiles (1973–74 models).', created='20230710T164824Z', pin_hash='3b134bae183b50c9', file='mtcars2.csv', file_size=1333, type='csv', api_version=1, version=Version(created=datetime.datetime(2023, 7, 10, 16, 48, 24, 131030), hash='3b134bae183b50c9'), tags=None, name='mtcars2', user={'source': 'Henderson and Velleman (1981), Building multiple regression models interactively. Biometrics, 37, 391–411.'}, local={})"
      ]
     },
     "execution_count": 5,
     "metadata": {},
     "output_type": "execute_result"
    }
   ],
   "source": [
    "tmpboard.pin_write(\n",
    "    mtcars,\n",
    "    name=\"mtcars2\",\n",
    "    type=\"csv\",\n",
    "    description = \"Data extracted from the 1974 Motor Trend US magazine, and comprises fuel consumption and 10 aspects of automobile design and performance for 32 automobiles (1973–74 models).\",\n",
    "    metadata = {\n",
    "        \"source\": \"Henderson and Velleman (1981), Building multiple regression models interactively. Biometrics, 37, 391–411.\"\n",
    "    }\n",
    ")"
   ]
  },
  {
   "attachments": {},
   "cell_type": "markdown",
   "metadata": {},
   "source": [
    "Pins can also be used to version objects."
   ]
  },
  {
   "cell_type": "code",
   "execution_count": 6,
   "metadata": {},
   "outputs": [
    {
     "name": "stderr",
     "output_type": "stream",
     "text": [
      "Writing pin:\n",
      "Name: 'x'\n",
      "Version: 20230710T164243Z-2bc5d\n",
      "Writing pin:\n",
      "Name: 'x'\n",
      "Version: 20230710T164243Z-c24c0\n",
      "Writing pin:\n",
      "Name: 'x'\n",
      "Version: 20230710T164243Z-91d9a\n"
     ]
    },
    {
     "data": {
      "text/html": [
       "<div>\n",
       "<style scoped>\n",
       "    .dataframe tbody tr th:only-of-type {\n",
       "        vertical-align: middle;\n",
       "    }\n",
       "\n",
       "    .dataframe tbody tr th {\n",
       "        vertical-align: top;\n",
       "    }\n",
       "\n",
       "    .dataframe thead th {\n",
       "        text-align: right;\n",
       "    }\n",
       "</style>\n",
       "<table border=\"1\" class=\"dataframe\">\n",
       "  <thead>\n",
       "    <tr style=\"text-align: right;\">\n",
       "      <th></th>\n",
       "      <th>created</th>\n",
       "      <th>hash</th>\n",
       "      <th>version</th>\n",
       "    </tr>\n",
       "  </thead>\n",
       "  <tbody>\n",
       "    <tr>\n",
       "      <th>0</th>\n",
       "      <td>2023-07-10 16:42:43</td>\n",
       "      <td>2bc5d</td>\n",
       "      <td>20230710T164243Z-2bc5d</td>\n",
       "    </tr>\n",
       "    <tr>\n",
       "      <th>1</th>\n",
       "      <td>2023-07-10 16:42:43</td>\n",
       "      <td>91d9a</td>\n",
       "      <td>20230710T164243Z-91d9a</td>\n",
       "    </tr>\n",
       "    <tr>\n",
       "      <th>2</th>\n",
       "      <td>2023-07-10 16:42:43</td>\n",
       "      <td>c24c0</td>\n",
       "      <td>20230710T164243Z-c24c0</td>\n",
       "    </tr>\n",
       "  </tbody>\n",
       "</table>\n",
       "</div>"
      ],
      "text/plain": [
       "              created   hash                 version\n",
       "0 2023-07-10 16:42:43  2bc5d  20230710T164243Z-2bc5d\n",
       "1 2023-07-10 16:42:43  91d9a  20230710T164243Z-91d9a\n",
       "2 2023-07-10 16:42:43  c24c0  20230710T164243Z-c24c0"
      ]
     },
     "execution_count": 6,
     "metadata": {},
     "output_type": "execute_result"
    }
   ],
   "source": [
    "board2 = board_temp()\n",
    "board2.pin_write([1,2,3,4,5], name = \"x\", type = \"json\")\n",
    "board2.pin_write([1,2,3], name = \"x\", type = \"json\")\n",
    "board2.pin_write([1,2], name = \"x\", type = \"json\")\n",
    "board2.pin_versions(\"x\")"
   ]
  },
  {
   "cell_type": "code",
   "execution_count": 9,
   "metadata": {},
   "outputs": [
    {
     "data": {
      "text/plain": [
       "[1, 2, 3]"
      ]
     },
     "execution_count": 9,
     "metadata": {},
     "output_type": "execute_result"
    }
   ],
   "source": [
    "board2.pin_read('x', version='___')"
   ]
  },
  {
   "attachments": {},
   "cell_type": "markdown",
   "metadata": {},
   "source": [
    "You can bring pins to many platforms with different boards."
   ]
  },
  {
   "cell_type": "code",
   "execution_count": 6,
   "metadata": {},
   "outputs": [],
   "source": [
    "import os\n",
    "from dotenv import load_dotenv\n",
    "load_dotenv()\n",
    "\n",
    "api_key = os.getenv(\"CO_API_KEY\")\n",
    "rsc_url = os.getenv(\"CO_RSC_URL\")"
   ]
  },
  {
   "cell_type": "code",
   "execution_count": 7,
   "metadata": {},
   "outputs": [
    {
     "name": "stderr",
     "output_type": "stream",
     "text": [
      "Writing pin:\n",
      "Name: 'isabel.zimmerman/mtcars'\n",
      "Version: 20230710T164835Z-3b134\n"
     ]
    },
    {
     "data": {
      "text/plain": [
       "Meta(title='mtcars: a pinned 32 x 11 DataFrame', description=None, created='20230710T164835Z', pin_hash='3b134bae183b50c9', file='mtcars.csv', file_size=1333, type='csv', api_version=1, version=VersionRaw(version='77094'), tags=None, name='isabel.zimmerman/mtcars', user={}, local={})"
      ]
     },
     "execution_count": 7,
     "metadata": {},
     "output_type": "execute_result"
    }
   ],
   "source": [
    "from pins import board_connect\n",
    "\n",
    "board = board_connect(server_url=rsc_url, api_key=api_key) # board_s3, board_gcs\n",
    "\n",
    "board.pin_write(mtcars, \"isabel.zimmerman/mtcars\", type = \"csv\")"
   ]
  },
  {
   "attachments": {},
   "cell_type": "markdown",
   "metadata": {},
   "source": [
    "You can see this pin now in the Connect UI.\n",
    "\n",
    "This allows for easy collaboration with R users!"
   ]
  },
  {
   "cell_type": "code",
   "execution_count": 8,
   "metadata": {},
   "outputs": [
    {
     "data": {
      "text/html": [
       "<div>\n",
       "<style scoped>\n",
       "    .dataframe tbody tr th:only-of-type {\n",
       "        vertical-align: middle;\n",
       "    }\n",
       "\n",
       "    .dataframe tbody tr th {\n",
       "        vertical-align: top;\n",
       "    }\n",
       "\n",
       "    .dataframe thead th {\n",
       "        text-align: right;\n",
       "    }\n",
       "</style>\n",
       "<table border=\"1\" class=\"dataframe\">\n",
       "  <thead>\n",
       "    <tr style=\"text-align: right;\">\n",
       "      <th></th>\n",
       "      <th>x</th>\n",
       "    </tr>\n",
       "  </thead>\n",
       "  <tbody>\n",
       "    <tr>\n",
       "      <th>0</th>\n",
       "      <td>1</td>\n",
       "    </tr>\n",
       "    <tr>\n",
       "      <th>1</th>\n",
       "      <td>2</td>\n",
       "    </tr>\n",
       "    <tr>\n",
       "      <th>2</th>\n",
       "      <td>3</td>\n",
       "    </tr>\n",
       "    <tr>\n",
       "      <th>3</th>\n",
       "      <td>4</td>\n",
       "    </tr>\n",
       "    <tr>\n",
       "      <th>4</th>\n",
       "      <td>5</td>\n",
       "    </tr>\n",
       "    <tr>\n",
       "      <th>5</th>\n",
       "      <td>6</td>\n",
       "    </tr>\n",
       "    <tr>\n",
       "      <th>6</th>\n",
       "      <td>7</td>\n",
       "    </tr>\n",
       "    <tr>\n",
       "      <th>7</th>\n",
       "      <td>8</td>\n",
       "    </tr>\n",
       "    <tr>\n",
       "      <th>8</th>\n",
       "      <td>9</td>\n",
       "    </tr>\n",
       "    <tr>\n",
       "      <th>9</th>\n",
       "      <td>10</td>\n",
       "    </tr>\n",
       "  </tbody>\n",
       "</table>\n",
       "</div>"
      ],
      "text/plain": [
       "    x\n",
       "0   1\n",
       "1   2\n",
       "2   3\n",
       "3   4\n",
       "4   5\n",
       "5   6\n",
       "6   7\n",
       "7   8\n",
       "8   9\n",
       "9  10"
      ]
     },
     "execution_count": 8,
     "metadata": {},
     "output_type": "execute_result"
    }
   ],
   "source": [
    "board.pin_read('isabel.zimmerman/ten_numbers')"
   ]
  },
  {
   "attachments": {},
   "cell_type": "markdown",
   "metadata": {},
   "source": [
    "`vetiver`, another package in the `pins` ecosystem, can help with model versioning tasks."
   ]
  },
  {
   "cell_type": "code",
   "execution_count": null,
   "metadata": {},
   "outputs": [],
   "source": [
    "from pins import board_temp\n",
    "from vetiver import vetiver_pin_write\n",
    "\n",
    "from vetiver.data import mtcars\n",
    "from vetiver import VetiverModel\n",
    "from sklearn import linear_model\n",
    "\n",
    "X = mtcars.drop(columns=\"mpg\") \n",
    "y = mtcars[\"mpg\"]\n",
    "\n",
    "car_mod = linear_model.LinearRegression().fit(X, y)\n",
    "                 \n",
    "v = VetiverModel(car_mod, model_name = \"cars_mpg\", \n",
    "                 prototype_data = X)\n",
    "\n",
    "model_board = board_temp(allow_pickle_read = True)\n",
    "vetiver_pin_write(model_board, v)"
   ]
  },
  {
   "attachments": {},
   "cell_type": "markdown",
   "metadata": {},
   "source": [
    "----\n",
    "\n",
    "# Publishing on Connect\n",
    "\n",
    "_This package provides a CLI (command-line interface) for interacting with and deploying to Posit Connect._\n",
    "\n",
    "`pip install rsconnect-python`\n",
    "\n",
    "\n",
    "## What can we all publish?\n",
    "\n",
    "You are able to publish static content as well as API endpoints and web applications.\n",
    "\n",
    "-   Jupyter Notebooks\n",
    "-   Flask applications\n",
    "-   FastAPI applications\n",
    "-   Plotly Dash applications\n",
    "-   Streamlit applications\n",
    "-   Bokeh applications\n",
    "-   Shiny applications\n",
    "-   Voila applications\n",
    "\n",
    "## How to publish content there?\n",
    "\n",
    "This is generally done through the CLI tool, `rsconnect-python`.\n",
    "\n",
    "You'll need\n",
    "\n",
    "- a `.py`, `.qmd` or `.ipynb` file to deploy\n",
    "- a server url and API key\n",
    "- a `requirements.txt` file, optionally"
   ]
  },
  {
   "cell_type": "code",
   "execution_count": null,
   "metadata": {
    "vscode": {
     "languageId": "shellscript"
    }
   },
   "outputs": [],
   "source": [
    "rsconnect deploy notebook \\\n",
    "    --server https://connect.example.org \\\n",
    "    --api-key my-api-key \\\n",
    "    my-notebook.ipynb"
   ]
  },
  {
   "attachments": {},
   "cell_type": "markdown",
   "metadata": {},
   "source": [
    "or `api`, `bokeh`, `dash`, `fastapi`, `html`, etc.. \n",
    "\n",
    "If you are always deploying to the same server, you can use the `add` command to store this information."
   ]
  },
  {
   "cell_type": "code",
   "execution_count": null,
   "metadata": {
    "vscode": {
     "languageId": "shellscript"
    }
   },
   "outputs": [],
   "source": [
    "rsconnect add \\\n",
    "    --api-key my-api-key \\\n",
    "    --server https://connect.example.org \\\n",
    "    --name myserver"
   ]
  },
  {
   "attachments": {},
   "cell_type": "markdown",
   "metadata": {},
   "source": [
    "Then you can reference the server by name in your command."
   ]
  },
  {
   "cell_type": "code",
   "execution_count": null,
   "metadata": {
    "vscode": {
     "languageId": "shellscript"
    }
   },
   "outputs": [],
   "source": [
    "rsconnect deploy notebook --name myserver my-notebook.ipynb"
   ]
  },
  {
   "attachments": {},
   "cell_type": "markdown",
   "metadata": {},
   "source": [
    "## My content is published, now what?\n",
    "\n",
    "With published content, you can schedule runs, interact with your APIs, and pull down data.\n",
    "\n",
    "## Resources\n",
    "\n",
    "-   [pins for Python](https://rstudio.github.io/pins-python/intro.html), [GitHub](https://github.com/rstudio/pins-python)\n",
    "-   [pins for R](https://github.com/rstudio/pins-r), [GitHub](https://pins.rstudio.com/)\n",
    "-   [rsconnect-python](https://github.com/rstudio/rsconnect-python)\n",
    "-   [Connect publishing](https://docs.posit.co/rsconnect-python/)\n",
    "- [End to end workflow for model management, in R and Python](https://colorado.posit.co/rsc/connect/#/apps/0c1cad91-1e46-4eb9-9e15-713ce5c87566/access/6080)"
   ]
  }
 ],
 "metadata": {
  "kernelspec": {
   "display_name": "pydemo",
   "language": "python",
   "name": "python3"
  },
  "language_info": {
   "codemirror_mode": {
    "name": "ipython",
    "version": 3
   },
   "file_extension": ".py",
   "mimetype": "text/x-python",
   "name": "python",
   "nbconvert_exporter": "python",
   "pygments_lexer": "ipython3",
   "version": "3.9.11"
  },
  "orig_nbformat": 4
 },
 "nbformat": 4,
 "nbformat_minor": 2
}
